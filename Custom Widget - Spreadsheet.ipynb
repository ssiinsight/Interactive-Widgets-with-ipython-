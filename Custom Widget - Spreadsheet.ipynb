{
 "metadata": {
  "name": "",
  "signature": "sha256:5903dc233e1e808f437849d1994d112e812ee45031ac6083c58808e268f34951"
 },
 "nbformat": 3,
 "nbformat_minor": 0,
 "worksheets": []
}